{
 "cells": [
  {
   "cell_type": "code",
   "execution_count": 1,
   "metadata": {},
   "outputs": [],
   "source": [
    "from ipyleaflet import Map, Marker, MarkerCluster, LayerGroup, LayersControl, basemaps, basemap_to_tiles\n",
    "from ipywidgets import HTML\n",
    "import pandas as pd\n",
    "import glob\n",
    "import os\n",
    "import re\n",
    "\n",
    "# Resources\n",
    "zip_to_coordinates = pd.read_csv('./resources/zip_to_coordinates.csv', dtype={'Zip/Postal Code': 'str'})\n",
    "\n",
    "# Concatenate CSV files in ./input \n",
    "joined_files = os.path.join(\"./input\", \"*.csv\")\n",
    "joined_list = glob.glob(joined_files)\n",
    "contacts = pd.concat(map(pd.read_csv, joined_list))\n",
    "\n",
    "def reduceZipCode(zip):\n",
    "    matches = re.search(\"^(\\d{4,5})\", str(zip))\n",
    "    if matches:\n",
    "        return matches.group(1)\n",
    "    return None\n",
    "\n",
    "contacts['Zip/Postal Code'] = contacts['Zip/Postal Code'].apply(reduceZipCode)\n",
    "contacts = pd.merge(contacts, zip_to_coordinates, on='Zip/Postal Code')"
   ]
  },
  {
   "cell_type": "code",
   "execution_count": 2,
   "metadata": {},
   "outputs": [
    {
     "data": {
      "application/vnd.jupyter.widget-view+json": {
       "model_id": "c8c89d5b7dd84b74844f9852898ee241",
       "version_major": 2,
       "version_minor": 0
      },
      "text/plain": [
       "Map(center=[39, -95], controls=(ZoomControl(options=['position', 'zoom_in_text', 'zoom_in_title', 'zoom_out_te…"
      ]
     },
     "metadata": {},
     "output_type": "display_data"
    }
   ],
   "source": [
    "m = Map(\n",
    "    basemap=basemaps.CartoDB.Positron,\n",
    "    center=(39, -95),\n",
    "    zoom=4\n",
    ")\n",
    "\n",
    "markers = []\n",
    "for i, row in contacts.iterrows():\n",
    "    markers.append(Marker(\n",
    "        location=(row.LAT, row.LNG),\n",
    "        popup=HTML(f\"<div>{row['First Name']} {row['Last Name']}<br />{row['Email']}</div><div><small>{row['Chapter']} {row['Status']}</small></div><div><small>{row['City']}, {row['State']}</small></div>\"),\n",
    "        draggable=False\n",
    "    ))\n",
    "\n",
    "marker_cluster = MarkerCluster(\n",
    "    name=\"Clustered Markers\",\n",
    "    markers=markers,\n",
    "    max_cluster_radius=1\n",
    ")\n",
    "\n",
    "m.add_layer(marker_cluster)\n",
    "\n",
    "m"
   ]
  },
  {
   "cell_type": "code",
   "execution_count": null,
   "metadata": {},
   "outputs": [],
   "source": []
  }
 ],
 "metadata": {
  "interpreter": {
   "hash": "31f2aee4e71d21fbe5cf8b01ff0e069b9275f58929596ceb00d14d90e3e16cd6"
  },
  "kernelspec": {
   "display_name": "Python 3 (ipykernel)",
   "language": "python",
   "name": "python3"
  },
  "language_info": {
   "codemirror_mode": {
    "name": "ipython",
    "version": 3
   },
   "file_extension": ".py",
   "mimetype": "text/x-python",
   "name": "python",
   "nbconvert_exporter": "python",
   "pygments_lexer": "ipython3",
   "version": "3.9.9"
  }
 },
 "nbformat": 4,
 "nbformat_minor": 2
}
