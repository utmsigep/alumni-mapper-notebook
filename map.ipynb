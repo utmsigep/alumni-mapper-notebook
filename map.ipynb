{
 "cells": [
  {
   "cell_type": "code",
   "execution_count": null,
   "metadata": {},
   "outputs": [],
   "source": [
    "from IPython.display import display\n",
    "from ipyleaflet import Map, Marker, MarkerCluster, LayerGroup, LayersControl, basemaps, basemap_to_tiles\n",
    "from ipywidgets import HTML, Layout\n",
    "from pathlib import Path\n",
    "import numpy as np\n",
    "import pandas as pd\n",
    "import glob\n",
    "import os\n",
    "import re\n",
    "\n",
    "# Resources\n",
    "zip_to_coordinates = pd.read_csv('./resources/zip_to_coordinates.csv', dtype={'Zip/Postal Code': 'str'})\n",
    "\n",
    "# Converts Zip+4 to just Zip\n",
    "def reduceZipCode(zip):\n",
    "    matches = re.search(\"^(\\d{3,5})\", str(zip))\n",
    "    if matches:\n",
    "        return matches.group(1)\n",
    "    return None\n",
    "\n",
    "def createExport(file, report_title):\n",
    "    contacts = pd.read_csv(file, dtype={'Zip/Postal Code': 'str', 'Email': 'str'})\n",
    "    contacts['Zip/Postal Code'] = contacts['Zip/Postal Code'].apply(reduceZipCode)\n",
    "    contacts = pd.merge(contacts, zip_to_coordinates, on='Zip/Postal Code')\n",
    "    contacts = contacts.replace(np.nan, '', regex=True)\n",
    "    return contacts\n",
    "\n",
    "# Concatenate CSV files in ./input \n",
    "report_files = glob.glob(os.path.join(\"./input\", \"*.csv\"))\n",
    "for file in report_files:\n",
    "    report_title = Path(file).stem\n",
    "    contacts = createExport(file, report_title)\n",
    "\n",
    "    m = Map(\n",
    "        basemap=basemaps.CartoDB.Positron,\n",
    "        center=(39, -95),\n",
    "        zoom=4,\n",
    "    )\n",
    "\n",
    "    markers = []\n",
    "    for i, row in contacts.iterrows():\n",
    "        markers.append(Marker(\n",
    "            location=(row.LAT, row.LNG),\n",
    "            popup=HTML(f\"<div>{row['First Name']} {row['Last Name']}<br />{str(row['Email'])}</div><div><small>{row['Chapter']} {row['Status']}</small></div><div><small>{row['City']}, {row['State']}</small></div>\"),\n",
    "            draggable=False\n",
    "        ))\n",
    "\n",
    "    marker_cluster = MarkerCluster(\n",
    "        name=\"Clustered Markers\",\n",
    "        markers=markers,\n",
    "        max_cluster_radius=1\n",
    "    )\n",
    "\n",
    "    m.add_layer(marker_cluster)\n",
    "\n",
    "    # Save to file\n",
    "    m.layout.height = '80vh'\n",
    "    m.save(f\"./output/{report_title}.html\", title=report_title)\n",
    "\n",
    "    # Show output on completion\n",
    "    m.layout.height = '300px'\n",
    "    display(HTML(f\"<h1>{report_title}\"))\n",
    "    display(contacts.head(5))\n",
    "    display(m)\n",
    "    display(HTML(\"<hr />\"))\n"
   ]
  },
  {
   "cell_type": "markdown",
   "metadata": {},
   "source": []
  }
 ],
 "metadata": {
  "interpreter": {
   "hash": "31f2aee4e71d21fbe5cf8b01ff0e069b9275f58929596ceb00d14d90e3e16cd6"
  },
  "kernelspec": {
   "display_name": "Python 3.8.9 64-bit",
   "language": "python",
   "name": "python3"
  },
  "language_info": {
   "codemirror_mode": {
    "name": "ipython",
    "version": 3
   },
   "file_extension": ".py",
   "mimetype": "text/x-python",
   "name": "python",
   "nbconvert_exporter": "python",
   "pygments_lexer": "ipython3",
   "version": "3.9.9"
  },
  "orig_nbformat": 4
 },
 "nbformat": 4,
 "nbformat_minor": 2
}
